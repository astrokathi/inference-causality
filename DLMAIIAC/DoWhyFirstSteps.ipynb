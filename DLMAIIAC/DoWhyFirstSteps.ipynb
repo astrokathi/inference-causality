{
 "cells": [
  {
   "cell_type": "markdown",
   "metadata": {},
   "source": [
    "# Causal Analysis with doWhy\n",
    "\n",
    "In this example we take a first look at estimating the causal effect from a generated dataset.\n",
    "To keep things simple, we use the built-in generator of the doWhy package to create\n",
    "a small dataset that contains linear relationships between the variables and the outcome\n",
    "and then use the package to estimate the causal effect.\n",
    "\n",
    "We will look at two methods to measure the causal effect:\n",
    "* linear regression\n",
    "* Propensity Score matching.\n",
    "\n",
    "\n",
    "N.B. This example follows the documentation from the doWhy package\n",
    "\n",
    "### Reminders:\n",
    "We remind ourselves of the following before looking at the example:\n",
    "\n",
    "* ATE (Average Treatment Effect): This is the average effect of the treatment on the outcome at the population level. \n",
    "* ATT (Average Treatment effect among the Treated): This is the effect the treatment has on the outcome among those who received the treatment. \n",
    "* ATC (Average Treatment effect on Control): This is the counterpart to ATT looking at the control group.\n",
    "* Propensity Score (PS): The PS specifies the probability for an individual to receive the treatment. In a random controlled trial (RCT), we assign the individuals to treatment and control group randomly. If this happens with equal probability, the PS is 0.5. However, in observational studies, we cannot control who is in which group and hence there groups may be different as individuals have different probabilities to be \"assigned\" to treatment or control group. Weighting by the propensity score or matching groups with equal propensity groups allows we can control for the non-random assignment to treatment and control groups. Hence the general idea behind using propensity scores is to approximate a random experiment from observational data.\n",
    "* Instrumental Variables (IV): IV are a statistical tool that address a specific issue in the use of observational data. Since we cannot through the design of a study ensure that all causal effects are controlled externally, for example by randomly assigning the treatment,  we may have some intrinsic characteristic of the individuals that are related to the outcome. For example, in a simple least squares model, the outcome $y$ may depend on a single variable $x$, i.e. $y = a \\cdot x + u$ where $u$ is an error term. Through linear regression we obtain the parameter $a$. However, we assume that the error term $u$ is uncorrelated to $x$. In some cases, depending on the study and the observational data, the assumption that $u$ has no association with $x$ may not hold and in these cases $u$ is associated with both $y$ and $x$ and hence the linear regression estimate for $a$ becomes biased as it now also incoporates the variation of $u$ with the variable $x$ and not just $a$. The idea behind instrumental variables is to introduce another variable $z$ that is only associated with $x$ but not with the error term $u$. Since $z$ is then uncorrelated with $u$, it can be used to measure the causal effect in the case where $x$ is associated with $u$.\n",
    "\n",
    "\n"
   ]
  },
  {
   "cell_type": "code",
   "execution_count": 1,
   "metadata": {},
   "outputs": [],
   "source": [
    "#import all required libraries\n",
    "import numpy as np\n",
    "import pandas as pd\n",
    "import matplotlib.pyplot as plt\n",
    "\n",
    "import dowhy\n",
    "from dowhy import CausalModel\n",
    "import dowhy.datasets\n",
    "\n",
    "from IPython.display import Image, display"
   ]
  },
  {
   "cell_type": "markdown",
   "metadata": {},
   "source": [
    "## Generate Data\n",
    "\n",
    "We now use the built-in model to create a small dataset that contains only linear relationships between the variables, the treatment and the outcome. In reality, this would correspond to the data we measure.\n",
    "\n",
    "In this method, ```beta``` is the causal effect we wish to recover from the estimation procedure.\n",
    "\n",
    "In the nomenclature of the doWhy package, we have:\n",
    "* v0: The treatment. In this example, we use a binary treatment (e.g. take a medicine or not). In general, this can be a real-valued number (e.g. dosage of the medicine given)\n",
    "* y: The outcome.\n",
    "\n",
    "We use a simple model where we have:\n",
    "* Two common causes that are associated with both the treatment v0 and the outcome y, given by w0 and w1.\n",
    "* One instrumental variable z0 to account for any case where the treatment is associated with any unobserved error terms\n",
    "* One variable x0 that is associated with the outcome only.\n",
    "* We assume that there are unobserved confounders that affect both treatment and outcome, hence the use of instrumental variables.\n",
    "\n",
    "Note that this method also returns the causal graph which is used to generate the data with. In a real setting we would have to specify this graph ourselves."
   ]
  },
  {
   "cell_type": "code",
   "execution_count": 14,
   "metadata": {},
   "outputs": [],
   "source": [
    "data = dowhy.datasets.linear_dataset(beta=7,\n",
    "        num_common_causes=2,\n",
    "        num_instruments = 1,\n",
    "        num_effect_modifiers=1,\n",
    "        num_samples=10000, \n",
    "        treatment_is_binary=True,\n",
    "        num_discrete_common_causes=0)"
   ]
  },
  {
   "cell_type": "markdown",
   "metadata": {},
   "source": [
    "Copy the numerical data into a pandas dataframe as this is the format the doWhy package receives the data."
   ]
  },
  {
   "cell_type": "code",
   "execution_count": 15,
   "metadata": {},
   "outputs": [
    {
     "data": {
      "text/html": [
       "<div>\n",
       "<style scoped>\n",
       "    .dataframe tbody tr th:only-of-type {\n",
       "        vertical-align: middle;\n",
       "    }\n",
       "\n",
       "    .dataframe tbody tr th {\n",
       "        vertical-align: top;\n",
       "    }\n",
       "\n",
       "    .dataframe thead th {\n",
       "        text-align: right;\n",
       "    }\n",
       "</style>\n",
       "<table border=\"1\" class=\"dataframe\">\n",
       "  <thead>\n",
       "    <tr style=\"text-align: right;\">\n",
       "      <th></th>\n",
       "      <th>X0</th>\n",
       "      <th>Z0</th>\n",
       "      <th>W0</th>\n",
       "      <th>W1</th>\n",
       "      <th>v0</th>\n",
       "      <th>y</th>\n",
       "    </tr>\n",
       "  </thead>\n",
       "  <tbody>\n",
       "    <tr>\n",
       "      <th>0</th>\n",
       "      <td>-0.572023</td>\n",
       "      <td>1.0</td>\n",
       "      <td>0.532748</td>\n",
       "      <td>0.027358</td>\n",
       "      <td>True</td>\n",
       "      <td>6.512455</td>\n",
       "    </tr>\n",
       "    <tr>\n",
       "      <th>1</th>\n",
       "      <td>-0.234966</td>\n",
       "      <td>1.0</td>\n",
       "      <td>0.953023</td>\n",
       "      <td>1.335890</td>\n",
       "      <td>True</td>\n",
       "      <td>9.059624</td>\n",
       "    </tr>\n",
       "    <tr>\n",
       "      <th>2</th>\n",
       "      <td>0.586273</td>\n",
       "      <td>1.0</td>\n",
       "      <td>-0.270576</td>\n",
       "      <td>0.783228</td>\n",
       "      <td>True</td>\n",
       "      <td>8.743286</td>\n",
       "    </tr>\n",
       "    <tr>\n",
       "      <th>3</th>\n",
       "      <td>-1.764275</td>\n",
       "      <td>1.0</td>\n",
       "      <td>0.675793</td>\n",
       "      <td>-0.293687</td>\n",
       "      <td>True</td>\n",
       "      <td>4.201130</td>\n",
       "    </tr>\n",
       "    <tr>\n",
       "      <th>4</th>\n",
       "      <td>-0.946250</td>\n",
       "      <td>1.0</td>\n",
       "      <td>-0.789069</td>\n",
       "      <td>0.752243</td>\n",
       "      <td>True</td>\n",
       "      <td>5.649539</td>\n",
       "    </tr>\n",
       "  </tbody>\n",
       "</table>\n",
       "</div>"
      ],
      "text/plain": [
       "         X0   Z0        W0        W1    v0         y\n",
       "0 -0.572023  1.0  0.532748  0.027358  True  6.512455\n",
       "1 -0.234966  1.0  0.953023  1.335890  True  9.059624\n",
       "2  0.586273  1.0 -0.270576  0.783228  True  8.743286\n",
       "3 -1.764275  1.0  0.675793 -0.293687  True  4.201130\n",
       "4 -0.946250  1.0 -0.789069  0.752243  True  5.649539"
      ]
     },
     "execution_count": 15,
     "metadata": {},
     "output_type": "execute_result"
    }
   ],
   "source": [
    "df = data[\"df\"]\n",
    "df.head()"
   ]
  },
  {
   "cell_type": "markdown",
   "metadata": {},
   "source": [
    "## Create Causal Model\n",
    "\n",
    "We now create the causal model. The pandas dataframe ```df``` contains the data, in our case the date we have generated earlier. We need to tell the model which variable corresponds to the treatment and the outcome as well as the causal graph we have created to describe the dataset."
   ]
  },
  {
   "cell_type": "code",
   "execution_count": 16,
   "metadata": {},
   "outputs": [
    {
     "name": "stderr",
     "output_type": "stream",
     "text": [
      "INFO:dowhy.causal_model:Model to find the causal effect of treatment ['v0'] on outcome ['y']\n"
     ]
    }
   ],
   "source": [
    "model=CausalModel(\n",
    "        data = df,\n",
    "        treatment=data[\"treatment_name\"],\n",
    "        outcome=data[\"outcome_name\"],\n",
    "        graph=data[\"gml_graph\"]\n",
    "        )"
   ]
  },
  {
   "cell_type": "code",
   "execution_count": 17,
   "metadata": {},
   "outputs": [
    {
     "data": {
      "image/png": "[encoded data removed]",
      "text/plain": [
       "<IPython.core.display.Image object>"
      ]
     },
     "metadata": {},
     "output_type": "display_data"
    }
   ],
   "source": [
    "# method creates a png with name 'causal_model.png'. This is hard-coded in the source\n",
    "# hence we create the file and then load it into the notebook.\n",
    "model.view_model()\n",
    "display(Image(filename='causal_model.png'))"
   ]
  },
  {
   "cell_type": "markdown",
   "metadata": {},
   "source": [
    "## Causal Analysis\n",
    "\n",
    "We now proceeed with the causal analysis using the doWhy package.\n",
    "\n",
    "The first step is to make sure that we can identify the effect. \n",
    "The warning below reminds us that in observational data we may have confounders that we have not accounted for in our model as explicit variables. We ignore the warning and proceed."
   ]
  },
  {
   "cell_type": "code",
   "execution_count": 18,
   "metadata": {},
   "outputs": [
    {
     "name": "stderr",
     "output_type": "stream",
     "text": [
      "WARNING:dowhy.causal_identifier:If this is observed data (not from a randomized experiment), there might always be missing confounders. Causal effect cannot be identified perfectly.\n",
      "INFO:dowhy.causal_identifier:Continuing by ignoring these unobserved confounders because proceed_when_unidentifiable flag is True.\n",
      "INFO:dowhy.causal_identifier:Instrumental variables for treatment and outcome:['Z0']\n",
      "INFO:dowhy.causal_identifier:Frontdoor variables for treatment and outcome:[]\n"
     ]
    },
    {
     "name": "stdout",
     "output_type": "stream",
     "text": [
      "Estimand type: nonparametric-ate\n",
      "\n",
      "### Estimand : 1\n",
      "Estimand name: backdoor1 (Default)\n",
      "Estimand expression:\n",
      "  d                           \n",
      "─────(Expectation(y|W1,X0,W0))\n",
      "d[v₀]                         \n",
      "Estimand assumption 1, Unconfoundedness: If U→{v0} and U→y then P(y|v0,W1,X0,W0,U) = P(y|v0,W1,X0,W0)\n",
      "\n",
      "### Estimand : 2\n",
      "Estimand name: backdoor2\n",
      "Estimand expression:\n",
      "  d                        \n",
      "─────(Expectation(y|W1,W0))\n",
      "d[v₀]                      \n",
      "Estimand assumption 1, Unconfoundedness: If U→{v0} and U→y then P(y|v0,W1,W0,U) = P(y|v0,W1,W0)\n",
      "\n",
      "### Estimand : 3\n",
      "Estimand name: iv\n",
      "Estimand expression:\n",
      "Expectation(Derivative(y, [Z0])*Derivative([v0], [Z0])**(-1))\n",
      "Estimand assumption 1, As-if-random: If U→→y then ¬(U →→{Z0})\n",
      "Estimand assumption 2, Exclusion: If we remove {Z0}→{v0}, then ¬({Z0}→y)\n",
      "\n",
      "### Estimand : 4\n",
      "Estimand name: frontdoor\n",
      "No such variable found!\n",
      "\n"
     ]
    }
   ],
   "source": [
    "identified_estimand = model.identify_effect(proceed_when_unidentifiable=True)\n",
    "print(identified_estimand)"
   ]
  },
  {
   "cell_type": "markdown",
   "metadata": {},
   "source": [
    "### Linear Regression\n",
    "\n",
    "We now use linear regression to estimate the causal effect.\n",
    "Remember that we wish to recover the value of ```beta``` we have used when generating the dataset.\n",
    "\n",
    "Using the causal graph, the linear regression model is identified as ```y~v0+W1+W0+v0*X0``` automatically."
   ]
  },
  {
   "cell_type": "code",
   "execution_count": 19,
   "metadata": {},
   "outputs": [
    {
     "name": "stderr",
     "output_type": "stream",
     "text": [
      "INFO:dowhy.causal_estimator:b: y~v0+W1+X0+W0+v0*X0\n",
      "INFO:dowhy.causal_estimator:INFO: Using Linear Regression Estimator\n"
     ]
    },
    {
     "name": "stdout",
     "output_type": "stream",
     "text": [
      "*** Causal Estimate ***\n",
      "\n",
      "## Identified estimand\n",
      "Estimand type: nonparametric-ate\n",
      "\n",
      "## Realized estimand\n",
      "b: y~v0+W1+X0+W0+v0*X0\n",
      "Target units: ate\n",
      "\n",
      "## Estimate\n",
      "Mean value: 6.599532556772235\n",
      "p-value: [0.]\n",
      "### Conditional Estimates\n",
      "__categorical__X0\n",
      "(-3.73, -1.073]      4.231275\n",
      "(-1.073, -0.488]     5.708756\n",
      "(-0.488, 0.00984]    6.592404\n",
      "(0.00984, 0.609]     7.503026\n",
      "(0.609, 3.694]       8.962202\n",
      "dtype: float64\n",
      "Causal Estimate is 6.599532556772235\n"
     ]
    }
   ],
   "source": [
    "#linear regression\n",
    "\n",
    "causal_estimate = model.estimate_effect(identified_estimand,\n",
    "        method_name=\"backdoor.linear_regression\",\n",
    "        test_significance=True)\n",
    "\n",
    "print(causal_estimate)\n",
    "print(\"Causal Estimate is \" + str(causal_estimate.value))"
   ]
  },
  {
   "cell_type": "markdown",
   "metadata": {},
   "source": [
    "Observe if the resulting number is very close to the value ```beta=7``` we used to generate the data.\n",
    "\n",
    "### Propensity Score\n",
    "\n",
    "We now use the propensity score to estimate the causal effect.\n",
    "The regression model is identified automatically as ```y~v0+W1+W0```"
   ]
  },
  {
   "cell_type": "code",
   "execution_count": 20,
   "metadata": {},
   "outputs": [
    {
     "name": "stderr",
     "output_type": "stream",
     "text": [
      "INFO:dowhy.causal_estimator:INFO: Using Propensity Score Stratification Estimator\n",
      "INFO:dowhy.causal_estimator:b: y~v0+W1+X0+W0\n"
     ]
    },
    {
     "name": "stdout",
     "output_type": "stream",
     "text": [
      "*** Causal Estimate ***\n",
      "\n",
      "## Identified estimand\n",
      "Estimand type: nonparametric-ate\n",
      "\n",
      "## Realized estimand\n",
      "b: y~v0+W1+X0+W0\n",
      "Target units: ate\n",
      "\n",
      "## Estimate\n",
      "Mean value: 6.601188678020272\n",
      "\n",
      "Causal Estimate is 6.601188678020272\n"
     ]
    },
    {
     "name": "stderr",
     "output_type": "stream",
     "text": [
      "/home/kerzel/VirtualEnvs/CausalityEnv/lib/python3.8/site-packages/sklearn/utils/validation.py:63: DataConversionWarning: A column-vector y was passed when a 1d array was expected. Please change the shape of y to (n_samples, ), for example using ravel().\n",
      "  return f(*args, **kwargs)\n",
      "/home/kerzel/VirtualEnvs/CausalityEnv/lib/python3.8/site-packages/dowhy/causal_estimators/propensity_score_stratification_estimator.py:61: FutureWarning: Index.ravel returning ndarray is deprecated; in a future version this will return a view on self.\n",
      "  weighted_outcomes.columns = [\"_\".join(x) for x in weighted_outcomes.columns.ravel()]\n"
     ]
    }
   ],
   "source": [
    "causal_estimate = model.estimate_effect(identified_estimand,\n",
    "        method_name=\"backdoor.propensity_score_stratification\")\n",
    "print(causal_estimate)\n",
    "print(\"Causal Estimate is \" + str(causal_estimate.value))"
   ]
  },
  {
   "cell_type": "markdown",
   "metadata": {},
   "source": [
    "Again observe if the result is very close to the value ```beta=7``` we used to generate the data with."
   ]
  }
 ],
 "metadata": {
  "kernelspec": {
   "display_name": "Python 3",
   "language": "python",
   "name": "python3"
  },
  "language_info": {
   "codemirror_mode": {
    "name": "ipython",
    "version": 3
   },
   "file_extension": ".py",
   "mimetype": "text/x-python",
   "name": "python",
   "nbconvert_exporter": "python",
   "pygments_lexer": "ipython3",
   "version": "3.8.5"
  }
 },
 "nbformat": 4,
 "nbformat_minor": 4
}
