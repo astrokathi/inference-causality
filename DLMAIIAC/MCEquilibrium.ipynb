{
 "cells": [
  {
   "cell_type": "markdown",
   "metadata": {
    "colab_type": "text",
    "id": "xkiTn9ThwC3q"
   },
   "source": [
    "# Equilibrium of Markov Chains\n",
    "\n",
    "This example refers to the discussion of Markov Chains in the course-book \"Infenrece & Causality\" unit 1.3.\n",
    "\n",
    "Markov Chains are completely defined by their transition probabilities. Due to the so-called Markov property, the future states only depend on the current state. This means that knowing the current state and the transition probabilities is sufficient to calculate the future behaviour, we do not need to know the history of how we reached the current state.\n",
    "\n",
    "A consequence is that we can start from an arbitrary state and reach the same equilibrium state of the Markov Chain once convergence is reached.\n",
    "\n",
    "This is demonstrated in the following example."
   ]
  },
  {
   "cell_type": "code",
   "execution_count": 1,
   "metadata": {
    "colab": {},
    "colab_type": "code",
    "id": "iKoEnbCYwC3r"
   },
   "outputs": [],
   "source": [
    "import numpy as np\n",
    "import pandas as pd\n",
    "import matplotlib.pyplot as plt"
   ]
  },
  {
   "cell_type": "markdown",
   "metadata": {
    "colab_type": "text",
    "id": "1R4V6ZRwxA1r"
   },
   "source": [
    "## Define Markov Chain\n",
    "\n",
    "First we define the matrix of transition probabilities that defines how we get from one state to the next.\n",
    "\n",
    "Note that each row needs to add up to one or a probability of 100% - we have to end up in a new state as we move along the Markov Chain, where the new state can also be the old state."
   ]
  },
  {
   "cell_type": "code",
   "execution_count": 2,
   "metadata": {
    "colab": {},
    "colab_type": "code",
    "id": "Ct95BA45wC3w",
    "outputId": "c2d2c87e-a08e-4d36-d9f1-cef686daebda"
   },
   "outputs": [
    {
     "name": "stdout",
     "output_type": "stream",
     "text": [
      "1.0\n",
      "0.9999999999999999\n",
      "1.0\n"
     ]
    }
   ],
   "source": [
    "#transition matrix\n",
    "P = np.array(\n",
    "[\n",
    "    [0.8,  0.1,  0.1],\n",
    "    [0.2,  0.7,  0.1],\n",
    "    [0.15, 0.25, 0.6]\n",
    "]\n",
    ")\n",
    "\n",
    "#check: each row needs to add up to 1 to conserve total probability\n",
    "for i in range(0,3):\n",
    "    print(np.sum(P[i:i+1]))\n",
    "    assert P[i, :].sum() - 1.0 < 0.00001"
   ]
  },
  {
   "cell_type": "markdown",
   "metadata": {
    "colab_type": "text",
    "id": "q3XgCfXWxZAU"
   },
   "source": [
    "## Iteration\n",
    "\n",
    "We start from an arbitrary initial state and move from state to state according to the matrix of transition probabilities until convergence is reached.\n",
    "\n",
    "Exercise: Try different initial states and observe the resulting behaviour."
   ]
  },
  {
   "cell_type": "code",
   "execution_count": 3,
   "metadata": {
    "colab": {},
    "colab_type": "code",
    "id": "6idw4RxZwC32",
    "outputId": "dbf03e16-938e-43c4-8380-f5f403ed61c8"
   },
   "outputs": [
    {
     "name": "stdout",
     "output_type": "stream",
     "text": [
      "------ initial state -------\n",
      "[[0 1 0]]\n",
      "--- equilibrium state -------\n",
      "[[0.475 0.325 0.2  ]]\n"
     ]
    }
   ],
   "source": [
    "# set initial state\n",
    "s_i = np.array([[0,1,0]])\n",
    "print('------ initial state -------')\n",
    "print(s_i)\n",
    "\n",
    "#record states as loop progresses\n",
    "states = [s_i]\n",
    "\n",
    "eps = 1\n",
    "while eps>1E-9:\n",
    "    # next state s_{i+1}: apply transition matrix to current state\n",
    "    s_i1 = np.dot(s_i,P)\n",
    "    #quadratic deviation - MSE\n",
    "    eps = np.sqrt(np.sum(np.square(s_i - s_i1)))\n",
    "    # set next state to current state\n",
    "    s_i = s_i1\n",
    "    states.append(s_i)\n",
    "    \n",
    "#after the loop completes, print equilbrium state\n",
    "print('--- equilibrium state -------')\n",
    "print(s_i)\n"
   ]
  },
  {
   "cell_type": "markdown",
   "metadata": {
    "colab_type": "text",
    "id": "R5LqS5r9xtb2"
   },
   "source": [
    "Now plot the distribution of probabilities to be in each of the three states as we move along the chain until convergence is reached.\n",
    "\n",
    "In this example, we start from the state $[0,1,0]$, i.e. from state B and hence initially the probability to be in state B is 1 and the probability for state A and C is 0.\n",
    "After a few iterations, the chain converges to the equilibrium state."
   ]
  },
  {
   "cell_type": "code",
   "execution_count": 4,
   "metadata": {
    "colab": {},
    "colab_type": "code",
    "id": "7Owq7WOVwC35",
    "outputId": "211102c1-509d-417e-d229-e7fc8a79a0e5"
   },
   "outputs": [
    {
     "data": {
      "image/png": "[encoded data removed]",
      "text/plain": [
       "<Figure size 432x288 with 1 Axes>"
      ]
     },
     "metadata": {
      "needs_background": "light"
     },
     "output_type": "display_data"
    }
   ],
   "source": [
    "df = pd.DataFrame(np.concatenate(states), columns=['A','B','C'])\n",
    "df.head()\n",
    "df.plot();"
   ]
  }
 ],
 "metadata": {
  "colab": {
   "collapsed_sections": [],
   "name": "MCEquilibrium.ipynb",
   "provenance": []
  },
  "kernelspec": {
   "display_name": "Python 3 (ipykernel)",
   "language": "python",
   "name": "python3"
  },
  "language_info": {
   "codemirror_mode": {
    "name": "ipython",
    "version": 3
   },
   "file_extension": ".py",
   "mimetype": "text/x-python",
   "name": "python",
   "nbconvert_exporter": "python",
   "pygments_lexer": "ipython3",
   "version": "3.9.13"
  }
 },
 "nbformat": 4,
 "nbformat_minor": 4
}
