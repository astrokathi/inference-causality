{
 "cells": [
  {
   "cell_type": "markdown",
   "metadata": {
    "colab_type": "text",
    "id": "QntGCbg6btc6"
   },
   "source": [
    "# Adjusting for Confounders\n",
    "\n",
    "Confounders can lead us to make the wrong conclusions from data and purely statistical treatment of data because this does not take the data-generating process into account.\n",
    "\n",
    "To demonstrate this effect and how we can account for it using the doWhy package, we look at the following simple scenario:\n",
    "\n",
    "Moderators announce a television programme with the aim to convince the potential viewers to watch the show.\n",
    "The moderators are given much freedom how to create a trailer to convice the audience to tune into the programme, with the only constraint that the trailer has to be between 10 and 30 seconds long.\n",
    "\n",
    "There are many moderators and we assume that different moderators create trailers within the allowed range so we expect a uniform distribution in [10,30]. For simplicity, we assume that the length of the trailer the moderators create does not have a causal effect on the probability that determines whether or not the viewers will decide to watch the show. Hence, looking the success rate of the trailer, i.e. the rate at which the show is watched as a function of the length of the trailers created by the moderator, we expect a flat distribution.\n",
    "\n",
    "We label the general population of moderators as \"group A\". However, there is a second group of moderators (which we label as \"group B\") that only creates trailer with a length between 15 and 20 seconds - and this group of moderators\n",
    "has a much higher success rate.\n",
    "\n",
    "We still assume that the length of the trailer has no causal effect on the outcome, i.e. the probability for viewers to decide to watch the show, hence\n",
    "the effect that group B is more successful can be due to the personality of the moderators or their style or they are \"funnier\", etc.\n",
    "\n",
    "If we then look at the overall success rate, we will notice a \"bump\" in the region of 15-20 seconds because this is the range where the more successful moderators produce their trailers.\n",
    "We might be tempted to conclude that the range 15-20 seconds is a \"sweet spot\" - but this is an artifact because we did not take the confounder into account.\n",
    "Once we control for the moderator, the effect vanishes.\n",
    "It is therefore important to take the data-generating process into account.!\n",
    "\n"
   ]
  },
  {
   "cell_type": "code",
   "execution_count": 1,
   "metadata": {
    "colab": {
     "base_uri": "https://localhost:8080/",
     "height": 625
    },
    "colab_type": "code",
    "executionInfo": {
     "elapsed": 26911,
     "status": "ok",
     "timestamp": 1591378085413,
     "user": {
      "displayName": "Ulrich Kerzel",
      "photoUrl": "https://lh3.googleusercontent.com/a-/AOh14GgUe7aETi8_2hp0GY6lXuHo8CbZgw1Wjq6SJtE-ow=s64",
      "userId": "10582137377195463323"
     },
     "user_tz": -120
    },
    "id": "idA1URRgbtc8",
    "outputId": "3ec2dd20-2173-4c62-97e4-316268d1d0cd"
   },
   "outputs": [],
   "source": [
    "#import required libraries\n",
    "import numpy as np\n",
    "import pandas as pd\n",
    "import dowhy.api\n",
    "\n",
    "import matplotlib.pyplot as plt\n",
    "\n",
    "# nice plots\n",
    "import seaborn as sns\n"
   ]
  },
  {
   "cell_type": "markdown",
   "metadata": {
    "colab_type": "text",
    "id": "AxbRNZvcfLH8"
   },
   "source": [
    "## Generate simulated data\n",
    "\n",
    "First we generate the simulated data representing the lenght of the trailers  created by the moderators. Group A (```N_1```) is much larger than group B (```N_2```)."
   ]
  },
  {
   "cell_type": "code",
   "execution_count": 2,
   "metadata": {
    "colab": {},
    "colab_type": "code",
    "id": "20aeM_OSbtdO"
   },
   "outputs": [],
   "source": [
    "N_1 = 50000\n",
    "N_2 =  5000\n",
    "length_1 = np.random.choice(range(10,30), size=N_1) \n",
    "length_2 = np.random.choice(range(15,20), size=N_2) \n"
   ]
  },
  {
   "cell_type": "markdown",
   "metadata": {
    "colab_type": "text",
    "id": "Cj7gvb_Pfe92"
   },
   "source": [
    "Now plot the distribution of the length of the trailers. \n",
    "We have generated this uniformly in the given range."
   ]
  },
  {
   "cell_type": "code",
   "execution_count": 3,
   "metadata": {
    "colab": {
     "base_uri": "https://localhost:8080/",
     "height": 295
    },
    "colab_type": "code",
    "executionInfo": {
     "elapsed": 643,
     "status": "ok",
     "timestamp": 1591378323234,
     "user": {
      "displayName": "Ulrich Kerzel",
      "photoUrl": "https://lh3.googleusercontent.com/a-/AOh14GgUe7aETi8_2hp0GY6lXuHo8CbZgw1Wjq6SJtE-ow=s64",
      "userId": "10582137377195463323"
     },
     "user_tz": -120
    },
    "id": "P7Acr_NRbtdg",
    "outputId": "5eb6636d-cbc2-408d-8a0d-fa0fef3adae6"
   },
   "outputs": [
    {
     "name": "stderr",
     "output_type": "stream",
     "text": [
      "/home/kerzel/VirtualEnvs/CausalityEnv/lib/python3.8/site-packages/seaborn/distributions.py:2557: FutureWarning: `distplot` is a deprecated function and will be removed in a future version. Please adapt your code to use either `displot` (a figure-level function with similar flexibility) or `histplot` (an axes-level function for histograms).\n",
      "  warnings.warn(msg, FutureWarning)\n"
     ]
    },
    {
     "data": {
      "image/png": "[encoded data removed]",
      "text/plain": [
       "<Figure size 432x288 with 1 Axes>"
      ]
     },
     "metadata": {
      "needs_background": "light"
     },
     "output_type": "display_data"
    }
   ],
   "source": [
    "sns.distplot(length_1, bins=20, kde=False, rug=False);\n",
    "plt.title('View Rate for moderator group A')\n",
    "plt.xlim(10,30)\n",
    "plt.xlabel('Trailer Length')\n",
    "plt.ylabel('Frequency')\n",
    "plt.show()\n"
   ]
  },
  {
   "cell_type": "code",
   "execution_count": 4,
   "metadata": {
    "colab": {
     "base_uri": "https://localhost:8080/",
     "height": 295
    },
    "colab_type": "code",
    "executionInfo": {
     "elapsed": 812,
     "status": "ok",
     "timestamp": 1591378312480,
     "user": {
      "displayName": "Ulrich Kerzel",
      "photoUrl": "https://lh3.googleusercontent.com/a-/AOh14GgUe7aETi8_2hp0GY6lXuHo8CbZgw1Wjq6SJtE-ow=s64",
      "userId": "10582137377195463323"
     },
     "user_tz": -120
    },
    "id": "jZ_HzRBdbtdy",
    "outputId": "61407d04-b119-4491-cefb-2c849d02b34f"
   },
   "outputs": [
    {
     "data": {
      "image/png": "[encoded data removed]",
      "text/plain": [
       "<Figure size 432x288 with 1 Axes>"
      ]
     },
     "metadata": {
      "needs_background": "light"
     },
     "output_type": "display_data"
    }
   ],
   "source": [
    "sns.distplot(length_2, bins=5, kde=False, rug=False);\n",
    "plt.title('View Rate for moderator group B')\n",
    "plt.xlim(15,20)\n",
    "plt.xlabel('Trailer Length')\n",
    "plt.ylabel('Frequency')\n",
    "plt.show()\n"
   ]
  },
  {
   "cell_type": "markdown",
   "metadata": {
    "colab_type": "text",
    "id": "kbBkdDVrbtdK"
   },
   "source": [
    "From a statistics point of view we can interprete the scenario as a series of Bernoulli trials: The viewer decides with some probability $p$ to watch the show following viewing the trailer - or does not watch the show with probability $1-p$ since there are only two options.\n",
    "\n",
    "We can use the beta function to model  the success rate with which the show is watched.\n",
    "The beta distribution is a continuous probability density distribution in the interval [0,1] which is parametrized by two positive shape parameters $\\alpha$ and $\\beta$. One of its important properties is that the Beta distribution in the *conjugate prior* probability distribution in the framework of Bayesian statistics for the Bernoulli, binomial, negative-binomial and geometric distribution. This has the advantage that the Beta distribution can be used to model any prior knowledge for Bernoulli or Binomial trials.\n",
    "\n",
    "The Beta distribution has two parameters $\\alpha$ and $\\beta$. When used for the description of Bernoulli trials, $\\alpha$ represents the number of successes and $\\beta$ the number of failures.\n",
    "For example, if in $n$ trials the experiment gave 4 successes, then $\\alpha = 4$ and $\\beta = 6$\n",
    "\n",
    "In this example we choose the parameters such that each group of moderators have a small success rate. Since we assume that group B is more succesfull, we choose the paramseters for this group such that the resulting probability distribution for success is significantly higher for group A."
   ]
  },
  {
   "cell_type": "code",
   "execution_count": 5,
   "metadata": {
    "colab": {},
    "colab_type": "code",
    "id": "9h8gh1z3btd5"
   },
   "outputs": [],
   "source": [
    "view_rate_1 = np.random.beta(5, 100, size=N_1)\n",
    "view_rate_2 = np.random.beta(10, 100, size=N_2)"
   ]
  },
  {
   "cell_type": "code",
   "execution_count": 6,
   "metadata": {
    "colab": {
     "base_uri": "https://localhost:8080/",
     "height": 279
    },
    "colab_type": "code",
    "executionInfo": {
     "elapsed": 615,
     "status": "ok",
     "timestamp": 1591378290074,
     "user": {
      "displayName": "Ulrich Kerzel",
      "photoUrl": "https://lh3.googleusercontent.com/a-/AOh14GgUe7aETi8_2hp0GY6lXuHo8CbZgw1Wjq6SJtE-ow=s64",
      "userId": "10582137377195463323"
     },
     "user_tz": -120
    },
    "id": "KHPyCtOcbteE",
    "outputId": "df0dafc2-59ab-4abb-fee9-e37805cd540e"
   },
   "outputs": [
    {
     "data": {
      "image/png": "[encoded data removed]",
      "text/plain": [
       "<Figure size 432x288 with 1 Axes>"
      ]
     },
     "metadata": {
      "needs_background": "light"
     },
     "output_type": "display_data"
    }
   ],
   "source": [
    "sns.distplot(view_rate_1, bins=20, kde=False, rug=False,  norm_hist=True, label='Group A');\n",
    "sns.distplot(view_rate_2, bins=20, kde=False, rug=False,  norm_hist=True, label='Group B');\n",
    "plt.xlabel('Success probability')\n",
    "plt.ylabel('Nomalized Frequency')\n",
    "plt.legend()\n",
    "plt.show()"
   ]
  },
  {
   "cell_type": "code",
   "execution_count": 7,
   "metadata": {
    "colab": {},
    "colab_type": "code",
    "id": "InUw24tLbteR",
    "outputId": "ea0e8c2e-f7cb-49b2-8f1b-31d7c2e41d1e"
   },
   "outputs": [
    {
     "data": {
      "text/html": [
       "<div>\n",
       "<style scoped>\n",
       "    .dataframe tbody tr th:only-of-type {\n",
       "        vertical-align: middle;\n",
       "    }\n",
       "\n",
       "    .dataframe tbody tr th {\n",
       "        vertical-align: top;\n",
       "    }\n",
       "\n",
       "    .dataframe thead th {\n",
       "        text-align: right;\n",
       "    }\n",
       "</style>\n",
       "<table border=\"1\" class=\"dataframe\">\n",
       "  <thead>\n",
       "    <tr style=\"text-align: right;\">\n",
       "      <th></th>\n",
       "      <th>view_rate</th>\n",
       "      <th>trailer_length</th>\n",
       "      <th>moderator</th>\n",
       "    </tr>\n",
       "  </thead>\n",
       "  <tbody>\n",
       "    <tr>\n",
       "      <th>0</th>\n",
       "      <td>0.048826</td>\n",
       "      <td>25</td>\n",
       "      <td>A</td>\n",
       "    </tr>\n",
       "    <tr>\n",
       "      <th>1</th>\n",
       "      <td>0.015086</td>\n",
       "      <td>17</td>\n",
       "      <td>A</td>\n",
       "    </tr>\n",
       "    <tr>\n",
       "      <th>2</th>\n",
       "      <td>0.050123</td>\n",
       "      <td>28</td>\n",
       "      <td>A</td>\n",
       "    </tr>\n",
       "    <tr>\n",
       "      <th>3</th>\n",
       "      <td>0.053219</td>\n",
       "      <td>25</td>\n",
       "      <td>A</td>\n",
       "    </tr>\n",
       "    <tr>\n",
       "      <th>4</th>\n",
       "      <td>0.062994</td>\n",
       "      <td>12</td>\n",
       "      <td>A</td>\n",
       "    </tr>\n",
       "  </tbody>\n",
       "</table>\n",
       "</div>"
      ],
      "text/plain": [
       "   view_rate  trailer_length moderator\n",
       "0   0.048826              25         A\n",
       "1   0.015086              17         A\n",
       "2   0.050123              28         A\n",
       "3   0.053219              25         A\n",
       "4   0.062994              12         A"
      ]
     },
     "execution_count": 7,
     "metadata": {},
     "output_type": "execute_result"
    }
   ],
   "source": [
    "df = pd.DataFrame({'view_rate': np.array(list(view_rate_1) + list(view_rate_2)),\n",
    "                  'trailer_length' : np.array(list(length_1) + list(length_2)),\n",
    "                  'moderator': ['A']*N_1 + ['B']*N_2})\n",
    "\n",
    "df.head()"
   ]
  },
  {
   "cell_type": "markdown",
   "metadata": {
    "colab_type": "text",
    "id": "J8isYz3Ibte3"
   },
   "source": [
    "Let's look at the resulting rate at which the viewers watch the show.\n",
    "Looking like this we would conclude that a trailer with a length between 15 and 20 seconds would result in a much higher view rate and this would be the optimal range.\n",
    "\n",
    "However, since we know that the data were generated differently, we know that this is due to the popularity of the moderator and not the length of the trailer.\n",
    "Hence we need to adjust for the confounder, in this case the moderator."
   ]
  },
  {
   "cell_type": "code",
   "execution_count": 8,
   "metadata": {
    "colab": {},
    "colab_type": "code",
    "id": "t2EdXwm2bte5",
    "outputId": "190ffebf-b9e7-4dde-d709-c744169cfa15"
   },
   "outputs": [
    {
     "data": {
      "image/png": "[encoded data removed]",
      "text/plain": [
       "<Figure size 432x288 with 1 Axes>"
      ]
     },
     "metadata": {
      "needs_background": "light"
     },
     "output_type": "display_data"
    }
   ],
   "source": [
    "sns.lineplot(x='trailer_length', y='view_rate', data=df)\n",
    "plt.ylim(0.0, 0.1)\n",
    "plt.show()"
   ]
  },
  {
   "cell_type": "markdown",
   "metadata": {
    "colab_type": "text",
    "id": "6Z1DHB-IbtfY"
   },
   "source": [
    "## Causal analysis\n",
    "\n",
    "We now adjust for the confounder. This means that we generate a sample based on the observational data but behaves as if we had applied the intervention $do(trailer\\_length)$ for all moderators in reality.\n",
    "This means that we look at the data as if we had forced the popular moderators to create trailers that have a length of 10 to 30 seconds, not just between 15 and 20 seconds. Remember that in reality these popular moderators only produced trailers that are between 15 and 20 seconds long - but we can use the $do$ calculus to \"force\" them to use the full range, that is we examine what would happen if we did this intervention in reality.\n",
    "Behind the scenes, the samples are weighted according to the propensity score. Intuitively, this is one divided by the probability of receiving a particular treatment $x$. Hence for each length of the trailer, we up-weight the ones with a lower propensity score.\n",
    "\n",
    "Since the dataframe does not contain any information about the relationship between the variables, we need to make this explicit when we call the method.\n",
    "In this case, the variable ```trailer_length``` is the \"treatment\" ($x$) ```view_rate``` is the outcome ($y$) and the common cause affecting both $x$ and $y$ is\n",
    "the choice of the moderator.\n",
    "We also need to tell the method which type the variables have: ```trailer_length``` is discrete since we count the seconds as single units, ```view_rate``` is continuous as this is a probability and ```moderator``` is discrete (group A or B).\n",
    "\n",
    "Since we simulate observational data that does not originate from a random controlled trial, there is always a risk that we did not account for all confounders. We use ```proceed_when_unidentifiable=True``` to ignore the corresponding warning.\n",
    "\n",
    "Note that the method can generate the causal graph automatically from the information we provide, although we can also pass a graph explicitly using the 'dot-graph' format."
   ]
  },
  {
   "cell_type": "code",
   "execution_count": 9,
   "metadata": {
    "colab": {},
    "colab_type": "code",
    "id": "HY02vr-Nbtfb",
    "outputId": "9b14a2ae-dd56-46fe-da29-e12aa390a38a"
   },
   "outputs": [
    {
     "name": "stderr",
     "output_type": "stream",
     "text": [
      "WARNING:dowhy.causal_model:Causal Graph not provided. DoWhy will construct a graph based on data inputs.\n",
      "INFO:dowhy.causal_graph:If this is observed data (not from a randomized experiment), there might always be missing confounders. Adding a node named \"Unobserved Confounders\" to reflect this.\n",
      "INFO:dowhy.causal_model:Model to find the causal effect of treatment ['trailer_length'] on outcome ['view_rate']\n",
      "WARNING:dowhy.causal_identifier:If this is observed data (not from a randomized experiment), there might always be missing confounders. Causal effect cannot be identified perfectly.\n",
      "INFO:dowhy.causal_identifier:Continuing by ignoring these unobserved confounders because proceed_when_unidentifiable flag is True.\n",
      "INFO:dowhy.causal_identifier:Instrumental variables for treatment and outcome:[]\n",
      "INFO:dowhy.causal_identifier:Frontdoor variables for treatment and outcome:[]\n",
      "INFO:dowhy.do_sampler:Using WeightingSampler for do sampling.\n",
      "INFO:dowhy.do_sampler:Caution: do samplers assume iid data.\n"
     ]
    }
   ],
   "source": [
    "causal_df = df.causal.do(x='trailer_length', \n",
    "                          method='weighting', \n",
    "                          variable_types={'trailer_length': 'd', \n",
    "                                          'view_rate': 'c', \n",
    "                                          'moderator': 'd'},\n",
    "                          outcome='view_rate',\n",
    "                          common_causes=['moderator'],\n",
    "                        proceed_when_unidentifiable=True)"
   ]
  },
  {
   "cell_type": "markdown",
   "metadata": {
    "colab_type": "text",
    "id": "9-sooCi3btfy"
   },
   "source": [
    "The resulting dataframe is a generated sample in which the propensity score is used to account for the confounder, the moderator.\n",
    "Hence, subsequent calls will result in different numerical values."
   ]
  },
  {
   "cell_type": "code",
   "execution_count": 10,
   "metadata": {
    "colab": {},
    "colab_type": "code",
    "id": "5YDfST66btfz",
    "outputId": "97d4ae35-1151-4229-997f-4528662ef6a5"
   },
   "outputs": [
    {
     "data": {
      "text/html": [
       "<div>\n",
       "<style scoped>\n",
       "    .dataframe tbody tr th:only-of-type {\n",
       "        vertical-align: middle;\n",
       "    }\n",
       "\n",
       "    .dataframe tbody tr th {\n",
       "        vertical-align: top;\n",
       "    }\n",
       "\n",
       "    .dataframe thead th {\n",
       "        text-align: right;\n",
       "    }\n",
       "</style>\n",
       "<table border=\"1\" class=\"dataframe\">\n",
       "  <thead>\n",
       "    <tr style=\"text-align: right;\">\n",
       "      <th></th>\n",
       "      <th>view_rate</th>\n",
       "      <th>trailer_length</th>\n",
       "      <th>moderator</th>\n",
       "      <th>propensity_score</th>\n",
       "      <th>weight</th>\n",
       "    </tr>\n",
       "  </thead>\n",
       "  <tbody>\n",
       "    <tr>\n",
       "      <th>0</th>\n",
       "      <td>0.074058</td>\n",
       "      <td>23</td>\n",
       "      <td>A</td>\n",
       "      <td>0.052494</td>\n",
       "      <td>19.049806</td>\n",
       "    </tr>\n",
       "    <tr>\n",
       "      <th>1</th>\n",
       "      <td>0.044227</td>\n",
       "      <td>26</td>\n",
       "      <td>A</td>\n",
       "      <td>0.048550</td>\n",
       "      <td>20.597158</td>\n",
       "    </tr>\n",
       "    <tr>\n",
       "      <th>2</th>\n",
       "      <td>0.057884</td>\n",
       "      <td>19</td>\n",
       "      <td>A</td>\n",
       "      <td>0.050286</td>\n",
       "      <td>19.886444</td>\n",
       "    </tr>\n",
       "    <tr>\n",
       "      <th>3</th>\n",
       "      <td>0.051724</td>\n",
       "      <td>20</td>\n",
       "      <td>A</td>\n",
       "      <td>0.050312</td>\n",
       "      <td>19.876087</td>\n",
       "    </tr>\n",
       "    <tr>\n",
       "      <th>4</th>\n",
       "      <td>0.016785</td>\n",
       "      <td>27</td>\n",
       "      <td>A</td>\n",
       "      <td>0.050232</td>\n",
       "      <td>19.907766</td>\n",
       "    </tr>\n",
       "  </tbody>\n",
       "</table>\n",
       "</div>"
      ],
      "text/plain": [
       "   view_rate  trailer_length moderator  propensity_score     weight\n",
       "0   0.074058              23         A          0.052494  19.049806\n",
       "1   0.044227              26         A          0.048550  20.597158\n",
       "2   0.057884              19         A          0.050286  19.886444\n",
       "3   0.051724              20         A          0.050312  19.876087\n",
       "4   0.016785              27         A          0.050232  19.907766"
      ]
     },
     "execution_count": 10,
     "metadata": {},
     "output_type": "execute_result"
    }
   ],
   "source": [
    "causal_df.head()"
   ]
  },
  {
   "cell_type": "markdown",
   "metadata": {
    "colab_type": "text",
    "id": "5TjbCXBIbtf8"
   },
   "source": [
    "We now look at the same plot after we controlled for the confounder.\n",
    "There is a slight hint left that the might be an effect - however, this is just an artifact from the discrete nature of generating the numbers via ```np.random.choice```.\n",
    "For example, if we were to use a continuous number for moderator group B, e.g. a Gaussian distriubtion $x \\sim \\mathcal{N}(17,2)$, this artifact would go away.\n",
    "\n",
    "In any case, the big \"bump\" we noticed earlier is now gone: The effect was indeed due to the confounder \"moderator\", i.e. of the personality of the moderators in group B but not due to the narrow length of the trailer."
   ]
  },
  {
   "cell_type": "code",
   "execution_count": 11,
   "metadata": {
    "colab": {},
    "colab_type": "code",
    "id": "g0SBC9hTbtf9",
    "outputId": "e99916e1-26a4-4594-cf52-d8340ee2157f"
   },
   "outputs": [
    {
     "data": {
      "image/png": "[encoded data removed]",
      "text/plain": [
       "<Figure size 432x288 with 1 Axes>"
      ]
     },
     "metadata": {
      "needs_background": "light"
     },
     "output_type": "display_data"
    }
   ],
   "source": [
    "sns.lineplot(x='trailer_length', y='view_rate', data=causal_df)\n",
    "plt.ylim(0.0, 0.1)\n",
    "plt.show()"
   ]
  },
  {
   "cell_type": "code",
   "execution_count": null,
   "metadata": {},
   "outputs": [],
   "source": []
  }
 ],
 "metadata": {
  "colab": {
   "collapsed_sections": [],
   "name": "doWhy_Confounder.ipynb",
   "provenance": []
  },
  "kernelspec": {
   "display_name": "Python 3",
   "language": "python",
   "name": "python3"
  },
  "language_info": {
   "codemirror_mode": {
    "name": "ipython",
    "version": 3
   },
   "file_extension": ".py",
   "mimetype": "text/x-python",
   "name": "python",
   "nbconvert_exporter": "python",
   "pygments_lexer": "ipython3",
   "version": "3.8.5"
  }
 },
 "nbformat": 4,
 "nbformat_minor": 4
}
