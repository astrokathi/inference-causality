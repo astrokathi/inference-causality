{
 "cells": [
  {
   "cell_type": "markdown",
   "metadata": {
    "colab_type": "text",
    "id": "1NVIShdkpACM"
   },
   "source": [
    "# Interventions in doWhy\n",
    "\n",
    "In this notebook we investigate how to analyze interventions in the python package [doWhy](https://github.com/microsoft/dowhy).\n",
    "\n",
    "Unlike a random controlled trial (RCT), the $do$ formalism by Pearl seeks to estimate the effect of an intervention: We do not want to compare the effect of two groups as we would in an RTC, e.g. $\\delta = E[Y(X=1) - Y(X=0)]$ where one group receives a treatment ($X=1$) and the control group does not ($X=0$).\n",
    "\n",
    "In the $do$-formalism, we want to estimate the effect directly if we apply an intervention $P(Y|do(X=x))$. Note that the intervention is not necessarily binary but can take any value.\n",
    "\n",
    "The doWhy package allows to use the $do$ formalism on a stanard [Pandas](https://pandas.pydata.org) dataframe which is commonly used in data-science and AI applications. This signifiantly lowers the threshold to perform causal analyses.\n",
    "\n",
    "In this example we use the built-in mechanism of the doWhy package to create a linear dataset according to a minimal causal model. In real appliations, we would use observational data and define a causal structure in form of a DAG ourselves.\n",
    "\n",
    "N.B. This example follows some of the documentation of the doWhy package."
   ]
  },
  {
   "cell_type": "code",
   "execution_count": 1,
   "metadata": {
    "colab": {
     "base_uri": "https://localhost:8080/",
     "height": 578
    },
    "colab_type": "code",
    "id": "Osiw0vzxo_E4",
    "outputId": "a5f75059-6475-4012-e8af-a3e8ee8ee882"
   },
   "outputs": [],
   "source": [
    "import numpy as np\n",
    "import pandas as pd\n",
    "from IPython.display import Image, display\n",
    "import graphviz as gv\n",
    "\n",
    "import dowhy.api\n",
    "from dowhy import CausalModel\n",
    "import dowhy.datasets"
   ]
  },
  {
   "cell_type": "markdown",
   "metadata": {
    "colab_type": "text",
    "id": "LIQy3kRuZJWa"
   },
   "source": [
    "## Create Dataset\n",
    "\n",
    "We now create a dataset according to a minimal causal model that consists of a treatment (v0), an outcome (y) and a common cause (W0) that  affects both v0 and y.\n",
    "The true causal effect we wish to measure is given by the parameter ```beta=5```, i.e. this is the quantity which we want to recover. Note that in reality this is unknown.\n",
    "\n",
    "The method ```dowhy.datasets.linear_dataset``` creates a linear dataset according to the specified model, as well as the names of the variables (e.g. treatment, outcome, etc) and a string representation of the causal graph used to created the data.\n",
    "The model also includes hidden confounders which we always have to consider present if we do not perfrom an random controlled trial."
   ]
  },
  {
   "cell_type": "code",
   "execution_count": 2,
   "metadata": {
    "colab": {
     "base_uri": "https://localhost:8080/",
     "height": 275
    },
    "colab_type": "code",
    "id": "kcubWtqo3PIY",
    "outputId": "89aa367a-f230-4b9b-adf5-5104f3fcf76f"
   },
   "outputs": [
    {
     "name": "stdout",
     "output_type": "stream",
     "text": [
      "{'df':             W0     v0         y\n",
      "0    -0.102119  False -0.132880\n",
      "1     0.690987   True  5.894421\n",
      "2    -0.156716   True  4.814261\n",
      "3    -0.258650  False -0.331770\n",
      "4     0.197426  False  0.236866\n",
      "...        ...    ...       ...\n",
      "9995  0.376492  False  0.490925\n",
      "9996  0.700374  False  0.912737\n",
      "9997 -1.722021  False -2.230543\n",
      "9998 -0.607654  False -0.777811\n",
      "9999 -0.142190  False -0.177631\n",
      "\n",
      "[10000 rows x 3 columns], 'treatment_name': ['v0'], 'outcome_name': 'y', 'common_causes_names': ['W0'], 'instrument_names': [], 'effect_modifier_names': [], 'frontdoor_variables_names': [], 'dot_graph': 'digraph { U[label=\"Unobserved Confounders\"]; U->y;v0->y;U->v0;W0-> v0;W0-> y;}', 'gml_graph': 'graph[directed 1node[ id \"y\" label \"y\"]node[ id \"Unobserved Confounders\" label \"Unobserved Confounders\"]edge[source \"Unobserved Confounders\" target \"y\"]node[ id \"W0\" label \"W0\"]node[ id \"v0\" label \"v0\"]edge[source \"Unobserved Confounders\" target \"v0\"]edge[source \"v0\" target \"y\"]edge[ source \"W0\" target \"v0\"]edge[ source \"W0\" target \"y\"]]', 'ate': 5.000008761483222}\n"
     ]
    }
   ],
   "source": [
    "data = dowhy.datasets.linear_dataset(beta=5,\n",
    "        num_common_causes=1,\n",
    "        num_instruments = 0,\n",
    "        num_samples=10000,\n",
    "        treatment_is_binary=True)\n",
    "\n",
    "#print the full dictionary\n",
    "print(data)"
   ]
  },
  {
   "cell_type": "markdown",
   "metadata": {
    "colab_type": "text",
    "id": "dAkQU4atYPq-"
   },
   "source": [
    "The object ```data``` contains a standard Pandas dataframe with the simulated observational data.\n",
    "Here, we retrieve this dataframe and check that it is indeed \"just\" a Pandas dataframe by printing its type."
   ]
  },
  {
   "cell_type": "code",
   "execution_count": 3,
   "metadata": {
    "colab": {
     "base_uri": "https://localhost:8080/",
     "height": 34
    },
    "colab_type": "code",
    "id": "Y653CsRd3VQv",
    "outputId": "957c7e5d-422b-49aa-be61-46de2a40c468"
   },
   "outputs": [
    {
     "data": {
      "text/plain": [
       "pandas.core.frame.DataFrame"
      ]
     },
     "execution_count": 3,
     "metadata": {},
     "output_type": "execute_result"
    }
   ],
   "source": [
    "df = data[\"df\"]\n",
    "type(df)"
   ]
  },
  {
   "cell_type": "code",
   "execution_count": 4,
   "metadata": {
    "colab": {
     "base_uri": "https://localhost:8080/",
     "height": 376
    },
    "colab_type": "code",
    "id": "O5_FjfppYCTr",
    "outputId": "620e951f-c79e-414a-bbd9-da7972238e01"
   },
   "outputs": [
    {
     "name": "stdout",
     "output_type": "stream",
     "text": [
      "Treatment name: v0, outcome name: y, name of common causes: W0\n"
     ]
    },
    {
     "data": {
      "text/html": [
       "<div>\n",
       "<style scoped>\n",
       "    .dataframe tbody tr th:only-of-type {\n",
       "        vertical-align: middle;\n",
       "    }\n",
       "\n",
       "    .dataframe tbody tr th {\n",
       "        vertical-align: top;\n",
       "    }\n",
       "\n",
       "    .dataframe thead th {\n",
       "        text-align: right;\n",
       "    }\n",
       "</style>\n",
       "<table border=\"1\" class=\"dataframe\">\n",
       "  <thead>\n",
       "    <tr style=\"text-align: right;\">\n",
       "      <th></th>\n",
       "      <th>W0</th>\n",
       "      <th>v0</th>\n",
       "      <th>y</th>\n",
       "    </tr>\n",
       "  </thead>\n",
       "  <tbody>\n",
       "    <tr>\n",
       "      <th>0</th>\n",
       "      <td>-0.102119</td>\n",
       "      <td>False</td>\n",
       "      <td>-0.132880</td>\n",
       "    </tr>\n",
       "    <tr>\n",
       "      <th>1</th>\n",
       "      <td>0.690987</td>\n",
       "      <td>True</td>\n",
       "      <td>5.894421</td>\n",
       "    </tr>\n",
       "    <tr>\n",
       "      <th>2</th>\n",
       "      <td>-0.156716</td>\n",
       "      <td>True</td>\n",
       "      <td>4.814261</td>\n",
       "    </tr>\n",
       "    <tr>\n",
       "      <th>3</th>\n",
       "      <td>-0.258650</td>\n",
       "      <td>False</td>\n",
       "      <td>-0.331770</td>\n",
       "    </tr>\n",
       "    <tr>\n",
       "      <th>4</th>\n",
       "      <td>0.197426</td>\n",
       "      <td>False</td>\n",
       "      <td>0.236866</td>\n",
       "    </tr>\n",
       "    <tr>\n",
       "      <th>5</th>\n",
       "      <td>0.437805</td>\n",
       "      <td>False</td>\n",
       "      <td>0.567671</td>\n",
       "    </tr>\n",
       "    <tr>\n",
       "      <th>6</th>\n",
       "      <td>-0.585141</td>\n",
       "      <td>False</td>\n",
       "      <td>-0.763559</td>\n",
       "    </tr>\n",
       "    <tr>\n",
       "      <th>7</th>\n",
       "      <td>-0.695937</td>\n",
       "      <td>False</td>\n",
       "      <td>-0.911531</td>\n",
       "    </tr>\n",
       "    <tr>\n",
       "      <th>8</th>\n",
       "      <td>1.271753</td>\n",
       "      <td>True</td>\n",
       "      <td>6.635740</td>\n",
       "    </tr>\n",
       "    <tr>\n",
       "      <th>9</th>\n",
       "      <td>0.967264</td>\n",
       "      <td>True</td>\n",
       "      <td>6.247690</td>\n",
       "    </tr>\n",
       "  </tbody>\n",
       "</table>\n",
       "</div>"
      ],
      "text/plain": [
       "         W0     v0         y\n",
       "0 -0.102119  False -0.132880\n",
       "1  0.690987   True  5.894421\n",
       "2 -0.156716   True  4.814261\n",
       "3 -0.258650  False -0.331770\n",
       "4  0.197426  False  0.236866\n",
       "5  0.437805  False  0.567671\n",
       "6 -0.585141  False -0.763559\n",
       "7 -0.695937  False -0.911531\n",
       "8  1.271753   True  6.635740\n",
       "9  0.967264   True  6.247690"
      ]
     },
     "execution_count": 4,
     "metadata": {},
     "output_type": "execute_result"
    }
   ],
   "source": [
    "# retrieve the names of treatment, outcome and common causes\n",
    "treatment= data[\"treatment_name\"][0]\n",
    "outcome = data[\"outcome_name\"][0]\n",
    "common_cause = data[\"common_causes_names\"][0]\n",
    "\n",
    "print('Treatment name: {}, outcome name: {}, name of common causes: {}'.format(treatment, outcome, common_cause))\n",
    "\n",
    "# list the first few entries.\n",
    "df.head(10)"
   ]
  },
  {
   "cell_type": "markdown",
   "metadata": {
    "colab_type": "text",
    "id": "iqUxL7GUcwQ7"
   },
   "source": [
    "We can visualize the model that has been used to create the data with. The function also returns a special string in the 'dot-graph' format that shows the DAG that corresponds to the causal model."
   ]
  },
  {
   "cell_type": "code",
   "execution_count": 5,
   "metadata": {
    "colab": {
     "base_uri": "https://localhost:8080/",
     "height": 272
    },
    "colab_type": "code",
    "id": "tNxGCHuKde3S",
    "outputId": "cef1b62a-ee95-4bdd-852c-9239a0cd8c88"
   },
   "outputs": [
    {
     "data": {
      "image/svg+xml": [
       "<?xml version=\"1.0\" encoding=\"UTF-8\" standalone=\"no\"?>\n",
       "<!DOCTYPE svg PUBLIC \"-//W3C//DTD SVG 1.1//EN\"\n",
       " \"http://www.w3.org/Graphics/SVG/1.1/DTD/svg11.dtd\">\n",
       "<!-- Generated by graphviz version 2.43.0 (0)\n",
       " -->\n",
       "<!-- Title: %3 Pages: 1 -->\n",
       "<svg width=\"338pt\" height=\"188pt\"\n",
       " viewBox=\"0.00 0.00 337.69 188.00\" xmlns=\"http://www.w3.org/2000/svg\" xmlns:xlink=\"http://www.w3.org/1999/xlink\">\n",
       "<g id=\"graph0\" class=\"graph\" transform=\"scale(1 1) rotate(0) translate(4 184)\">\n",
       "<title>%3</title>\n",
       "<polygon fill=\"white\" stroke=\"transparent\" points=\"-4,4 -4,-184 333.69,-184 333.69,4 -4,4\"/>\n",
       "<!-- U -->\n",
       "<g id=\"node1\" class=\"node\">\n",
       "<title>U</title>\n",
       "<ellipse fill=\"none\" stroke=\"black\" cx=\"128.69\" cy=\"-162\" rx=\"128.88\" ry=\"18\"/>\n",
       "<text text-anchor=\"middle\" x=\"128.69\" y=\"-158.3\" font-family=\"Times,serif\" font-size=\"14.00\">Unobserved Confounders</text>\n",
       "</g>\n",
       "<!-- y -->\n",
       "<g id=\"node2\" class=\"node\">\n",
       "<title>y</title>\n",
       "<ellipse fill=\"none\" stroke=\"black\" cx=\"231.69\" cy=\"-18\" rx=\"27\" ry=\"18\"/>\n",
       "<text text-anchor=\"middle\" x=\"231.69\" y=\"-14.3\" font-family=\"Times,serif\" font-size=\"14.00\">y</text>\n",
       "</g>\n",
       "<!-- U&#45;&gt;y -->\n",
       "<g id=\"edge1\" class=\"edge\">\n",
       "<title>U&#45;&gt;y</title>\n",
       "<path fill=\"none\" stroke=\"black\" d=\"M141.11,-143.87C159.44,-118.6 193.79,-71.25 214.52,-42.67\"/>\n",
       "<polygon fill=\"black\" stroke=\"black\" points=\"217.44,-44.6 220.48,-34.45 211.77,-40.49 217.44,-44.6\"/>\n",
       "</g>\n",
       "<!-- v0 -->\n",
       "<g id=\"node3\" class=\"node\">\n",
       "<title>v0</title>\n",
       "<ellipse fill=\"none\" stroke=\"black\" cx=\"231.69\" cy=\"-90\" rx=\"27\" ry=\"18\"/>\n",
       "<text text-anchor=\"middle\" x=\"231.69\" y=\"-86.3\" font-family=\"Times,serif\" font-size=\"14.00\">v0</text>\n",
       "</g>\n",
       "<!-- U&#45;&gt;v0 -->\n",
       "<g id=\"edge3\" class=\"edge\">\n",
       "<title>U&#45;&gt;v0</title>\n",
       "<path fill=\"none\" stroke=\"black\" d=\"M153.36,-144.23C168.93,-133.65 189.03,-119.99 204.97,-109.16\"/>\n",
       "<polygon fill=\"black\" stroke=\"black\" points=\"207.04,-111.98 213.35,-103.46 203.11,-106.19 207.04,-111.98\"/>\n",
       "</g>\n",
       "<!-- v0&#45;&gt;y -->\n",
       "<g id=\"edge2\" class=\"edge\">\n",
       "<title>v0&#45;&gt;y</title>\n",
       "<path fill=\"none\" stroke=\"black\" d=\"M231.69,-71.7C231.69,-63.98 231.69,-54.71 231.69,-46.11\"/>\n",
       "<polygon fill=\"black\" stroke=\"black\" points=\"235.19,-46.1 231.69,-36.1 228.19,-46.1 235.19,-46.1\"/>\n",
       "</g>\n",
       "<!-- W0 -->\n",
       "<g id=\"node4\" class=\"node\">\n",
       "<title>W0</title>\n",
       "<ellipse fill=\"none\" stroke=\"black\" cx=\"302.69\" cy=\"-162\" rx=\"27\" ry=\"18\"/>\n",
       "<text text-anchor=\"middle\" x=\"302.69\" y=\"-158.3\" font-family=\"Times,serif\" font-size=\"14.00\">W0</text>\n",
       "</g>\n",
       "<!-- W0&#45;&gt;y -->\n",
       "<g id=\"edge5\" class=\"edge\">\n",
       "<title>W0&#45;&gt;y</title>\n",
       "<path fill=\"none\" stroke=\"black\" d=\"M297.3,-144.11C291.19,-125.83 280.4,-96.08 267.69,-72 262.47,-62.11 255.8,-51.82 249.62,-42.97\"/>\n",
       "<polygon fill=\"black\" stroke=\"black\" points=\"252.35,-40.76 243.68,-34.66 246.65,-44.83 252.35,-40.76\"/>\n",
       "</g>\n",
       "<!-- W0&#45;&gt;v0 -->\n",
       "<g id=\"edge4\" class=\"edge\">\n",
       "<title>W0&#45;&gt;v0</title>\n",
       "<path fill=\"none\" stroke=\"black\" d=\"M287.98,-146.5C278.08,-136.73 264.85,-123.69 253.7,-112.7\"/>\n",
       "<polygon fill=\"black\" stroke=\"black\" points=\"255.96,-110.01 246.38,-105.49 251.04,-115 255.96,-110.01\"/>\n",
       "</g>\n",
       "</g>\n",
       "</svg>\n"
      ],
      "text/plain": [
       "<graphviz.files.Source at 0x7f7db112fbe0>"
      ]
     },
     "execution_count": 5,
     "metadata": {},
     "output_type": "execute_result"
    }
   ],
   "source": [
    "gv.Source(data[\"dot_graph\"])"
   ]
  },
  {
   "cell_type": "markdown",
   "metadata": {
    "colab_type": "text",
    "id": "0tzK1vrRfm9x"
   },
   "source": [
    "## Perform Causal Analysis\n",
    "\n",
    "Now we use the functionality of the doWhy package to apply the $do$ operator.\n",
    "In our case, the treatment is binary,i.e. we can apply the treatment or not.\n",
    "We work with the standard Pandas dataframe ```df```. In this example we have obtained this from the helper function generating the data, in general this would contain our observational data.\n",
    "\n",
    "Since the implementation of the $do$ operator does not know the structure of the variables and the DAG, we have to specify this when applying the function.\n",
    "\n",
    "In particular we have to specify:\n",
    "* the variable types for each variable in the dataframe. In our case we have the variables ```treatment```, ```outcome``` and ```common_cause``` and we have to tell the package the type of teh variables. The following convention is used: ```b```: binary, ```d```: discrete, ```o```: ordered discrete, ```u```: unordered discrete, ```c```: continuous.\n",
    "* which variable corresponds to the treatment ```x```\n",
    "* which variable corresponds to the outcome\n",
    "* which variables correspond to the common causes for treatment and outcome\n",
    "* the causal graph we assume in the 'dot-graph' format\n",
    "\n",
    "Remeber that there may always be confounders that we have not considered in our DAG when working with observational data, so we tell the method explicitly that we have understood this and ignore the warning via ```proceed_when_unidentifiable=True```\n",
    "\n",
    "Since our treatment is binary, we have only two possible actions: apply the treatment or not. This corresponds to $do(X=1)$ and $do(X=0)$. In other scenarios we may have multiple actions or the actions may be continuous, for example, if we vary the dose of a medicine.\n",
    "\n",
    "To apply the $do$ operator, we provide the treatment variable ```x``` with a dictionary that specifies that the variable ```treatment``` in the DAG is set to either 0 or 1.\n",
    "Each action results in a new dataframe, corresponding to $P(Y|do(X=1)$ and \n",
    "$P(Y|do(X=0)$.\n",
    "\n",
    "For each call of the $do$ operator, the method creates a random sample\n",
    "corresponding to $P(Y|do(X=\\{0,1\\})$, meaning that repeated executions of the same function result in different values in the dataframe."
   ]
  },
  {
   "cell_type": "code",
   "execution_count": 6,
   "metadata": {
    "colab": {
     "base_uri": "https://localhost:8080/",
     "height": 323
    },
    "colab_type": "code",
    "id": "vbKvQTSp4ddA",
    "outputId": "e92c6510-f413-471f-cb4b-b56f92fa486b"
   },
   "outputs": [
    {
     "name": "stderr",
     "output_type": "stream",
     "text": [
      "INFO:dowhy.causal_model:Model to find the causal effect of treatment ['v0'] on outcome ['y']\n",
      "WARNING:dowhy.causal_identifier:If this is observed data (not from a randomized experiment), there might always be missing confounders. Causal effect cannot be identified perfectly.\n",
      "INFO:dowhy.causal_identifier:Continuing by ignoring these unobserved confounders because proceed_when_unidentifiable flag is True.\n",
      "INFO:dowhy.causal_identifier:Instrumental variables for treatment and outcome:[]\n",
      "INFO:dowhy.causal_identifier:Frontdoor variables for treatment and outcome:[]\n",
      "INFO:dowhy.do_sampler:Using WeightingSampler for do sampling.\n",
      "INFO:dowhy.do_sampler:Caution: do samplers assume iid data.\n",
      "INFO:dowhy.causal_model:Model to find the causal effect of treatment ['v0'] on outcome ['y']\n",
      "WARNING:dowhy.causal_identifier:If this is observed data (not from a randomized experiment), there might always be missing confounders. Causal effect cannot be identified perfectly.\n",
      "INFO:dowhy.causal_identifier:Continuing by ignoring these unobserved confounders because proceed_when_unidentifiable flag is True.\n",
      "INFO:dowhy.causal_identifier:Instrumental variables for treatment and outcome:[]\n",
      "INFO:dowhy.causal_identifier:Frontdoor variables for treatment and outcome:[]\n",
      "INFO:dowhy.do_sampler:Using WeightingSampler for do sampling.\n",
      "INFO:dowhy.do_sampler:Caution: do samplers assume iid data.\n"
     ]
    }
   ],
   "source": [
    "df_doX_1 = df.causal.do(x={treatment: 1},\n",
    "                     variable_types={treatment: 'b', outcome: 'c', common_cause: 'c'},\n",
    "                     outcome=outcome,\n",
    "                     common_causes=[common_cause],\n",
    "                     dot_graph=data['dot_graph'],\n",
    "                     proceed_when_unidentifiable=True)\n",
    "\n",
    "df_doX_0 = df.causal.do(x={treatment: 0},\n",
    "                     variable_types={treatment: 'b', outcome: 'c', common_cause: 'c'},\n",
    "                     outcome=outcome,\n",
    "                     common_causes=[common_cause],\n",
    "                     dot_graph=data['dot_graph'],\n",
    "                     proceed_when_unidentifiable=True)"
   ]
  },
  {
   "cell_type": "markdown",
   "metadata": {
    "colab_type": "text",
    "id": "cr6D9l6w60mB"
   },
   "source": [
    "Now we look at the resulting dataframes, first for $do(X=0)$"
   ]
  },
  {
   "cell_type": "code",
   "execution_count": 7,
   "metadata": {
    "colab": {
     "base_uri": "https://localhost:8080/",
     "height": 204
    },
    "colab_type": "code",
    "id": "_1EpBubE5UKB",
    "outputId": "672bc3cd-e905-4cc5-ab98-6f8fb4376419"
   },
   "outputs": [
    {
     "data": {
      "text/html": [
       "<div>\n",
       "<style scoped>\n",
       "    .dataframe tbody tr th:only-of-type {\n",
       "        vertical-align: middle;\n",
       "    }\n",
       "\n",
       "    .dataframe tbody tr th {\n",
       "        vertical-align: top;\n",
       "    }\n",
       "\n",
       "    .dataframe thead th {\n",
       "        text-align: right;\n",
       "    }\n",
       "</style>\n",
       "<table border=\"1\" class=\"dataframe\">\n",
       "  <thead>\n",
       "    <tr style=\"text-align: right;\">\n",
       "      <th></th>\n",
       "      <th>W0</th>\n",
       "      <th>v0</th>\n",
       "      <th>y</th>\n",
       "      <th>propensity_score</th>\n",
       "      <th>weight</th>\n",
       "    </tr>\n",
       "  </thead>\n",
       "  <tbody>\n",
       "    <tr>\n",
       "      <th>0</th>\n",
       "      <td>1.651710</td>\n",
       "      <td>False</td>\n",
       "      <td>2.138547</td>\n",
       "      <td>0.034011</td>\n",
       "      <td>29.402093</td>\n",
       "    </tr>\n",
       "    <tr>\n",
       "      <th>1</th>\n",
       "      <td>-0.901139</td>\n",
       "      <td>False</td>\n",
       "      <td>-1.164213</td>\n",
       "      <td>0.871448</td>\n",
       "      <td>1.147515</td>\n",
       "    </tr>\n",
       "    <tr>\n",
       "      <th>2</th>\n",
       "      <td>1.052419</td>\n",
       "      <td>False</td>\n",
       "      <td>1.355390</td>\n",
       "      <td>0.107975</td>\n",
       "      <td>9.261365</td>\n",
       "    </tr>\n",
       "    <tr>\n",
       "      <th>3</th>\n",
       "      <td>0.071329</td>\n",
       "      <td>False</td>\n",
       "      <td>0.109980</td>\n",
       "      <td>0.477515</td>\n",
       "      <td>2.094173</td>\n",
       "    </tr>\n",
       "    <tr>\n",
       "      <th>4</th>\n",
       "      <td>0.311884</td>\n",
       "      <td>False</td>\n",
       "      <td>0.402176</td>\n",
       "      <td>0.357628</td>\n",
       "      <td>2.796205</td>\n",
       "    </tr>\n",
       "  </tbody>\n",
       "</table>\n",
       "</div>"
      ],
      "text/plain": [
       "         W0     v0         y  propensity_score     weight\n",
       "0  1.651710  False  2.138547          0.034011  29.402093\n",
       "1 -0.901139  False -1.164213          0.871448   1.147515\n",
       "2  1.052419  False  1.355390          0.107975   9.261365\n",
       "3  0.071329  False  0.109980          0.477515   2.094173\n",
       "4  0.311884  False  0.402176          0.357628   2.796205"
      ]
     },
     "execution_count": 7,
     "metadata": {},
     "output_type": "execute_result"
    }
   ],
   "source": [
    "df_doX_0.head()\n"
   ]
  },
  {
   "cell_type": "markdown",
   "metadata": {
    "colab_type": "text",
    "id": "EJJQFe7W64iv"
   },
   "source": [
    "Note that behind the scenes the propensity score is calcualted and the samples\n",
    "weighted appropriately to be able to apply the $do$ operator.\n",
    "\n",
    "Then we look at the result for $do(X=1)$:"
   ]
  },
  {
   "cell_type": "code",
   "execution_count": 8,
   "metadata": {
    "colab": {
     "base_uri": "https://localhost:8080/",
     "height": 204
    },
    "colab_type": "code",
    "id": "wLUVvKUM69AP",
    "outputId": "e4703cd3-15fe-4e56-cd72-a8ccfb4d3991"
   },
   "outputs": [
    {
     "data": {
      "text/html": [
       "<div>\n",
       "<style scoped>\n",
       "    .dataframe tbody tr th:only-of-type {\n",
       "        vertical-align: middle;\n",
       "    }\n",
       "\n",
       "    .dataframe tbody tr th {\n",
       "        vertical-align: top;\n",
       "    }\n",
       "\n",
       "    .dataframe thead th {\n",
       "        text-align: right;\n",
       "    }\n",
       "</style>\n",
       "<table border=\"1\" class=\"dataframe\">\n",
       "  <thead>\n",
       "    <tr style=\"text-align: right;\">\n",
       "      <th></th>\n",
       "      <th>W0</th>\n",
       "      <th>v0</th>\n",
       "      <th>y</th>\n",
       "      <th>propensity_score</th>\n",
       "      <th>weight</th>\n",
       "    </tr>\n",
       "  </thead>\n",
       "  <tbody>\n",
       "    <tr>\n",
       "      <th>0</th>\n",
       "      <td>0.910949</td>\n",
       "      <td>True</td>\n",
       "      <td>6.177455</td>\n",
       "      <td>0.860576</td>\n",
       "      <td>1.162012</td>\n",
       "    </tr>\n",
       "    <tr>\n",
       "      <th>1</th>\n",
       "      <td>1.798837</td>\n",
       "      <td>True</td>\n",
       "      <td>7.316060</td>\n",
       "      <td>0.974658</td>\n",
       "      <td>1.026001</td>\n",
       "    </tr>\n",
       "    <tr>\n",
       "      <th>2</th>\n",
       "      <td>-0.536044</td>\n",
       "      <td>True</td>\n",
       "      <td>4.311816</td>\n",
       "      <td>0.238390</td>\n",
       "      <td>4.194808</td>\n",
       "    </tr>\n",
       "    <tr>\n",
       "      <th>3</th>\n",
       "      <td>0.403481</td>\n",
       "      <td>True</td>\n",
       "      <td>5.523008</td>\n",
       "      <td>0.684476</td>\n",
       "      <td>1.460972</td>\n",
       "    </tr>\n",
       "    <tr>\n",
       "      <th>4</th>\n",
       "      <td>-0.051614</td>\n",
       "      <td>True</td>\n",
       "      <td>4.929209</td>\n",
       "      <td>0.459258</td>\n",
       "      <td>2.177426</td>\n",
       "    </tr>\n",
       "  </tbody>\n",
       "</table>\n",
       "</div>"
      ],
      "text/plain": [
       "         W0    v0         y  propensity_score    weight\n",
       "0  0.910949  True  6.177455          0.860576  1.162012\n",
       "1  1.798837  True  7.316060          0.974658  1.026001\n",
       "2 -0.536044  True  4.311816          0.238390  4.194808\n",
       "3  0.403481  True  5.523008          0.684476  1.460972\n",
       "4 -0.051614  True  4.929209          0.459258  2.177426"
      ]
     },
     "execution_count": 8,
     "metadata": {},
     "output_type": "execute_result"
    }
   ],
   "source": [
    "df_doX_1.head()"
   ]
  },
  {
   "cell_type": "markdown",
   "metadata": {
    "colab_type": "text",
    "id": "geEUK-LtsqKA"
   },
   "source": [
    "Finally, we compute the average treatment effect (ATE). This is the variable we would compute in a random controlled trial (RCT) where we compare the treatment with the control group. \n",
    "\n",
    "Remember that in a RCT we cannot observe the outcome in the cases where we both apply the treatment to an individual or not apply the treatment. Hence in an RCT we assign indiviuals randomly to the treatment and control group.\n",
    "\n",
    "However, within the $do$framework, we can make this observation by using the $do$-calculus to determine the outcome for $P(Y|do(X=0))$ and $P(Y|do(X=1))$.\n",
    "Therefore, to calculate the ATE, we need to take the average of\n",
    "the individual results - something we cannot do in an RCT.\n",
    "\n",
    "Note that this is the quantity we wish to recover when we generated the dataset with the helper function in the beginning and the numerical value was controlled by the variable ```beta```, i.e. the value computed below should correspond to the value of ```beta``` earlier.\n",
    "\n",
    "As we can see from the result, we have recovered the causal effect quite well."
   ]
  },
  {
   "cell_type": "code",
   "execution_count": 9,
   "metadata": {
    "colab": {
     "base_uri": "https://localhost:8080/",
     "height": 34
    },
    "colab_type": "code",
    "id": "HJQR34vO7r2v",
    "outputId": "7e749f3b-819e-4cdb-9a10-2e87210c735c"
   },
   "outputs": [
    {
     "name": "stdout",
     "output_type": "stream",
     "text": [
      "Causal effect (ATE): 5.02725334532164\n"
     ]
    }
   ],
   "source": [
    "#estimate causal effect\n",
    "ATE_do = (df_doX_1['y'] - df_doX_0['y']).mean()\n",
    "print('Causal effect (ATE): {}'.format(ATE_do))"
   ]
  },
  {
   "cell_type": "markdown",
   "metadata": {
    "colab_type": "text",
    "id": "2n0l3gNe8dQT"
   },
   "source": [
    "## Compare to Random Controlled Trial\n",
    "\n",
    "Compare to the case where we mimic a RCT by propensity score weighting\n",
    "Note that in this case we only get the results for the causal effect but not the causal dataframe.\n"
   ]
  },
  {
   "cell_type": "code",
   "execution_count": 10,
   "metadata": {
    "colab": {
     "base_uri": "https://localhost:8080/",
     "height": 306
    },
    "colab_type": "code",
    "id": "zTnsOeMx8e_7",
    "outputId": "f99f0cc7-9950-4484-9705-232116057900"
   },
   "outputs": [
    {
     "name": "stderr",
     "output_type": "stream",
     "text": [
      "INFO:dowhy.causal_model:Model to find the causal effect of treatment ['v0'] on outcome ['y']\n",
      "WARNING:dowhy.causal_identifier:If this is observed data (not from a randomized experiment), there might always be missing confounders. Causal effect cannot be identified perfectly.\n",
      "INFO:dowhy.causal_identifier:Continuing by ignoring these unobserved confounders because proceed_when_unidentifiable flag is True.\n",
      "INFO:dowhy.causal_identifier:Instrumental variables for treatment and outcome:[]\n",
      "INFO:dowhy.causal_identifier:Frontdoor variables for treatment and outcome:[]\n"
     ]
    },
    {
     "name": "stdout",
     "output_type": "stream",
     "text": [
      "Estimand type: nonparametric-ate\n",
      "\n",
      "### Estimand : 1\n",
      "Estimand name: backdoor1 (Default)\n",
      "Estimand expression:\n",
      "  d                     \n",
      "─────(Expectation(y|W0))\n",
      "d[v₀]                   \n",
      "Estimand assumption 1, Unconfoundedness: If U→{v0} and U→y then P(y|v0,W0,U) = P(y|v0,W0)\n",
      "\n",
      "### Estimand : 2\n",
      "Estimand name: iv\n",
      "No such variable found!\n",
      "\n",
      "### Estimand : 3\n",
      "Estimand name: frontdoor\n",
      "No such variable found!\n",
      "\n"
     ]
    }
   ],
   "source": [
    "model=CausalModel(\n",
    "        data = df,\n",
    "        treatment=data[\"treatment_name\"],\n",
    "        outcome=data[\"outcome_name\"],\n",
    "        graph=data[\"gml_graph\"]\n",
    "        )\n",
    "\n",
    "identified_estimand = model.identify_effect(proceed_when_unidentifiable=True)\n",
    "print(identified_estimand)"
   ]
  },
  {
   "cell_type": "code",
   "execution_count": 11,
   "metadata": {
    "colab": {
     "base_uri": "https://localhost:8080/",
     "height": 496
    },
    "colab_type": "code",
    "id": "rBvdm8LP8jXN",
    "outputId": "b8a6549b-7e88-4d7c-cbff-3832b0533de9"
   },
   "outputs": [
    {
     "name": "stderr",
     "output_type": "stream",
     "text": [
      "INFO:dowhy.causal_estimator:INFO: Using Propensity Score Stratification Estimator\n",
      "INFO:dowhy.causal_estimator:b: y~v0+W0\n"
     ]
    },
    {
     "name": "stdout",
     "output_type": "stream",
     "text": [
      "*** Causal Estimate ***\n",
      "\n",
      "## Identified estimand\n",
      "Estimand type: nonparametric-ate\n",
      "\n",
      "## Realized estimand\n",
      "b: y~v0+W0\n",
      "Target units: ate\n",
      "\n",
      "## Estimate\n",
      "Mean value: 5.0026513650015065\n",
      "\n",
      "Causal Estimate is 5.0026513650015065\n"
     ]
    },
    {
     "name": "stderr",
     "output_type": "stream",
     "text": [
      "/home/kerzel/VirtualEnvs/CausalityEnv/lib/python3.8/site-packages/sklearn/utils/validation.py:63: DataConversionWarning: A column-vector y was passed when a 1d array was expected. Please change the shape of y to (n_samples, ), for example using ravel().\n",
      "  return f(*args, **kwargs)\n",
      "/home/kerzel/VirtualEnvs/CausalityEnv/lib/python3.8/site-packages/dowhy/causal_estimators/propensity_score_stratification_estimator.py:61: FutureWarning: Index.ravel returning ndarray is deprecated; in a future version this will return a view on self.\n",
      "  weighted_outcomes.columns = [\"_\".join(x) for x in weighted_outcomes.columns.ravel()]\n"
     ]
    }
   ],
   "source": [
    "ATE_RCT = model.estimate_effect(identified_estimand,\n",
    "        method_name=\"backdoor.propensity_score_stratification\")\n",
    "print(ATE_RCT)\n",
    "print(\"Causal Estimate is \" + str(ATE_RCT.value))"
   ]
  },
  {
   "cell_type": "markdown",
   "metadata": {
    "colab_type": "text",
    "id": "iu7NwxKJ-Hfm"
   },
   "source": [
    "As we can see we can also recover the original causal effect."
   ]
  }
 ],
 "metadata": {
  "colab": {
   "collapsed_sections": [],
   "name": "doWhy_CausalDo.ipynb",
   "provenance": []
  },
  "kernelspec": {
   "display_name": "Python 3",
   "language": "python",
   "name": "python3"
  },
  "language_info": {
   "codemirror_mode": {
    "name": "ipython",
    "version": 3
   },
   "file_extension": ".py",
   "mimetype": "text/x-python",
   "name": "python",
   "nbconvert_exporter": "python",
   "pygments_lexer": "ipython3",
   "version": "3.8.5"
  }
 },
 "nbformat": 4,
 "nbformat_minor": 4
}
