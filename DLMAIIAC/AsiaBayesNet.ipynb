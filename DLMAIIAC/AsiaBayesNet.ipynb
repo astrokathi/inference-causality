{
 "cells": [
  {
   "cell_type": "markdown",
   "metadata": {
    "colab_type": "text",
    "id": "Qsf6Vpv51dR9"
   },
   "source": [
    "# Asia Network\n",
    "\n",
    "This example explores the famous \"Asia\" network by Lauritzen and Spiegelhalter:\n",
    "Lauritzen, S. L., & Spiegelhalter, D. J.  (1988).  Local computations withprobabilities on graphical structures and their application to expertsystems.Journal of the Royal Statistical Society:  Series B (Method-ological),50(2), 157–194.\n",
    "\n",
    "This Bayesian Network is discussed in more detail in the course-book \"Inference & Causality\" in unit 1.2\n",
    "\n",
    "The definition of the network can be obtained from http://www.bnlearn.com/bnrepository/asia/asia.bif.gz and we will use a local copy to avoid downloading it with each new start."
   ]
  },
  {
   "cell_type": "code",
   "execution_count": 1,
   "metadata": {
    "colab": {},
    "colab_type": "code",
    "id": "3jiU_1Wh1dR_",
    "outputId": "79f88586-2603-4c36-bb23-180d4009623c"
   },
   "outputs": [
    {
     "name": "stdout",
     "output_type": "stream",
     "text": [
      "AsiaBayesNet.ipynb\t\t     asia.bif\n",
      "DoWhyFirstSteps.ipynb\t\t     doWhy_CausalDo.ipynb\n",
      "LinearRegressionProbabilistic.ipynb  doWhy_Confounder.ipynb\n",
      "MCEquilibrium.ipynb\t\t     requirements.txt\n"
     ]
    }
   ],
   "source": [
    "# get files if not yet there\n",
    "\n",
    "#!wget http://www.bnlearn.com/bnrepository/asia/asia.bif.gz\n",
    "#!gunzip asia.bif.gz\n",
    "!ls"
   ]
  },
  {
   "cell_type": "code",
   "execution_count": 2,
   "metadata": {
    "colab": {},
    "colab_type": "code",
    "id": "BdyhFnx91dSI"
   },
   "outputs": [
    {
     "name": "stderr",
     "output_type": "stream",
     "text": [
      "/home/kerzel/VirtualEnvs/CausalityEnv/lib/python3.8/site-packages/torch/cuda/__init__.py:52: UserWarning: CUDA initialization: Found no NVIDIA driver on your system. Please check that you have an NVIDIA GPU and installed a driver from http://www.nvidia.com/Download/index.aspx (Triggered internally at  /pytorch/c10/cuda/CUDAFunctions.cpp:100.)\n",
      "  return torch._C._cuda_getDeviceCount() > 0\n"
     ]
    }
   ],
   "source": [
    "# imports\n",
    "from pgmpy.readwrite import BIFReader\n",
    "from pgmpy.inference import VariableElimination\n",
    "import networkx as nx\n",
    "import pylab as plt"
   ]
  },
  {
   "cell_type": "code",
   "execution_count": 3,
   "metadata": {
    "colab": {},
    "colab_type": "code",
    "id": "Wu6s5UJ01dSP",
    "outputId": "7e5ac80e-ec7b-405a-ad01-12aff6f0b708"
   },
   "outputs": [
    {
     "data": {
      "text/plain": [
       "True"
      ]
     },
     "execution_count": 3,
     "metadata": {},
     "output_type": "execute_result"
    }
   ],
   "source": [
    "#load pre-defined model\n",
    "reader = BIFReader('asia.bif')\n",
    "model = reader.get_model()\n",
    "model.check_model()"
   ]
  },
  {
   "cell_type": "code",
   "execution_count": 4,
   "metadata": {
    "colab": {},
    "colab_type": "code",
    "id": "6H6kd0x-1dSU",
    "outputId": "7b4b6da4-0680-4cd6-838a-01a1472e8ef4"
   },
   "outputs": [
    {
     "data": {
      "image/png": "[encoded data removed]",
      "text/plain": [
       "<Figure size 432x288 with 1 Axes>"
      ]
     },
     "metadata": {},
     "output_type": "display_data"
    }
   ],
   "source": [
    "# visualize model\n",
    "nx.draw(model, with_labels=True)\n",
    "plt.show()"
   ]
  },
  {
   "cell_type": "markdown",
   "metadata": {
    "colab_type": "text",
    "id": "8YRLBvID2Mlk"
   },
   "source": [
    "Now that the network is fully defined and checked, \n",
    "we can use it for inferences.\n",
    "\n",
    "Exercise: use the network to infer different variables, using different observations as evidence."
   ]
  },
  {
   "cell_type": "code",
   "execution_count": 5,
   "metadata": {
    "colab": {},
    "colab_type": "code",
    "id": "DKDXGzCg1dSa",
    "outputId": "dc6d8a2e-1a94-4df4-f524-c72590677e07"
   },
   "outputs": [
    {
     "name": "stderr",
     "output_type": "stream",
     "text": [
      "Finding Elimination Order: :   0%|          | 0/5 [00:00<?, ?it/s]\n",
      "  0%|          | 0/5 [00:00<?, ?it/s]\u001b[A\n",
      "Eliminating: xray:   0%|          | 0/5 [00:00<?, ?it/s]\u001b[A\n",
      "Eliminating: tub:   0%|          | 0/5 [00:00<?, ?it/s] \u001b[A\n",
      "Eliminating: either:   0%|          | 0/5 [00:00<?, ?it/s]\u001b[A\n",
      "Finding Elimination Order: : 100%|██████████| 5/5 [00:00<00:00, 265.29it/s]\n",
      "\n",
      "Eliminating: lung: 100%|██████████| 5/5 [00:00<00:00, 249.11it/s]"
     ]
    },
    {
     "name": "stdout",
     "output_type": "stream",
     "text": [
      "+-----------+-------------+\n",
      "| asia      |   phi(asia) |\n",
      "+===========+=============+\n",
      "| asia(yes) |      0.0102 |\n",
      "+-----------+-------------+\n",
      "| asia(no)  |      0.9898 |\n",
      "+-----------+-------------+\n"
     ]
    },
    {
     "name": "stderr",
     "output_type": "stream",
     "text": [
      "\n"
     ]
    }
   ],
   "source": [
    "# make some inferences\n",
    "infer = VariableElimination(model)\n",
    "posterior_p = infer.query(variables=['asia'], evidence={'smoke': 'yes', 'dysp':'yes'})\n",
    "print(posterior_p)"
   ]
  }
 ],
 "metadata": {
  "colab": {
   "collapsed_sections": [],
   "name": "AsiaBayesNet.ipynb",
   "provenance": []
  },
  "kernelspec": {
   "display_name": "Python 3 (ipykernel)",
   "language": "python",
   "name": "python3"
  },
  "language_info": {
   "codemirror_mode": {
    "name": "ipython",
    "version": 3
   },
   "file_extension": ".py",
   "mimetype": "text/x-python",
   "name": "python",
   "nbconvert_exporter": "python",
   "pygments_lexer": "ipython3",
   "version": "3.9.13"
  }
 },
 "nbformat": 4,
 "nbformat_minor": 4
}
